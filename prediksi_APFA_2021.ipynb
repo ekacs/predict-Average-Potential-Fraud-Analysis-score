{
  "cells": [
    {
      "cell_type": "markdown",
      "metadata": {
        "id": "view-in-github",
        "colab_type": "text"
      },
      "source": [
        "<a href=\"https://colab.research.google.com/github/ekacs/predict-Average-Potential-Fraud-Analysis-score/blob/main/prediksi_APFA_2021.ipynb\" target=\"_parent\"><img src=\"https://colab.research.google.com/assets/colab-badge.svg\" alt=\"Open In Colab\"/></a>"
      ]
    },
    {
      "cell_type": "markdown",
      "id": "e910bf41-6bfc-4453-9c9f-e439d53bda65",
      "metadata": {
        "id": "e910bf41-6bfc-4453-9c9f-e439d53bda65"
      },
      "source": [
        "PERSIAPAN"
      ]
    },
    {
      "cell_type": "code",
      "execution_count": null,
      "id": "8cf47205-7ec4-48cd-a90a-369d7bf10327",
      "metadata": {
        "id": "8cf47205-7ec4-48cd-a90a-369d7bf10327"
      },
      "outputs": [],
      "source": [
        "import pandas as pd\n",
        "import matplotlib.pyplot as plt\n",
        "import numpy as np\n",
        "import seaborn as sns\n",
        "from sklearn.linear_model import LinearRegression\n",
        "from sklearn.model_selection import train_test_split\n",
        "from sklearn.metrics import mean_absolute_error\n",
        "from sklearn.tree import DecisionTreeRegressor\n",
        "from sklearn.metrics import accuracy_score"
      ]
    },
    {
      "cell_type": "code",
      "execution_count": null,
      "id": "62bb75e7-f666-4dd5-9b21-601446034adf",
      "metadata": {
        "id": "62bb75e7-f666-4dd5-9b21-601446034adf"
      },
      "outputs": [],
      "source": [
        "#load data KorWil.xlsx\n",
        "korwil = pd.read_excel(\"D:\\Jaga Data Challenge\\KorWil.xlsx\")\n",
        "\n",
        "#membuang data terakhir karena sama dengan nama kolom\n",
        "korwil.drop(korwil.tail(1).index,inplace=True)\n",
        "\n",
        "korwil.isna().sum()"
      ]
    },
    {
      "cell_type": "code",
      "execution_count": null,
      "id": "01e28d5b-1efe-4a9b-8555-9c9009d2b96d",
      "metadata": {
        "id": "01e28d5b-1efe-4a9b-8555-9c9009d2b96d"
      },
      "outputs": [],
      "source": [
        "#merubah tipe data 'bobot_area_intervensi' menjadi tipe data numerik\n",
        "korwil['bobot_area_intervensi'] = pd.to_numeric(korwil['bobot_area_intervensi'])\n",
        "\n",
        "#gouping data berdasarkan instansi dan area_intervensi dengan ratas nilai bobot_area_intervensi \n",
        "korwil1 = korwil.groupby([korwil['instansi'], korwil['area_intervensi']]).mean()\n",
        "korwil2 = korwil1.reset_index()\n",
        "pivot_df = pd.pivot(korwil2, index='instansi', columns = 'area_intervensi', values='bobot_area_intervensi')\n",
        "\n",
        "korwil_pivot = pivot_df.reset_index()\n",
        "\n",
        "#menghilangkan kata Pemerintah di kolom instansi \n",
        "Instansi=[]\n",
        "i=0\n",
        "for i in range(len(korwil_pivot)):\n",
        "    nama= korwil_pivot.iloc[i,0].replace('Pemerintah ', '')\n",
        "    Instansi.append(nama)\n",
        "\n",
        "korwil_pivot.insert(loc=1, column='Instansi', value=Instansi)\n",
        "korwil_pivotTable = korwil_pivot.drop(korwil_pivot.columns[0], axis=1)\n",
        "korwil_pivotTable\n",
        "\n",
        "#Output hasil ke bentuk CSV\n",
        "#korwil_pivot.to_csv(\"korwil_pivotTable.csv\", index=False)"
      ]
    },
    {
      "cell_type": "code",
      "execution_count": null,
      "id": "3d44b408-f744-44fb-ae97-f5dd64f35225",
      "metadata": {
        "id": "3d44b408-f744-44fb-ae97-f5dd64f35225"
      },
      "outputs": [],
      "source": [
        "#load data opentender \n",
        "opentender = pd.read_excel(\"D:\\Jaga Data Challenge\\sumber-opentender-2021.xlsx\")\n",
        "opentender.head()"
      ]
    },
    {
      "cell_type": "code",
      "execution_count": null,
      "id": "e494fbf0-3aad-470f-a684-1a377ef1fbbc",
      "metadata": {
        "id": "e494fbf0-3aad-470f-a684-1a377ef1fbbc"
      },
      "outputs": [],
      "source": [
        "#menghilangkan kata lpse pada kolom lpse\n",
        "lpse2=[]\n",
        "for i in range(len(opentender)):\n",
        "    nama = opentender.iloc[i,2].replace('LPSE ', '')\n",
        "    lpse2.append(nama)\n",
        "opentender['lpse2'] = lpse2\n",
        "opentender.head()\n",
        "\n",
        "#Output hasil ke bentuk CSV\n",
        "#opentender.to_csv(\"Opentender.csv\", index=False)"
      ]
    },
    {
      "cell_type": "code",
      "execution_count": null,
      "id": "541e36f1-c037-4b87-b69f-7d933ddfcbea",
      "metadata": {
        "id": "541e36f1-c037-4b87-b69f-7d933ddfcbea"
      },
      "outputs": [],
      "source": [
        "#groping data opentender dengan ratas skor\n",
        "group_opentender = opentender.groupby(opentender['lpse2']).mean()\n",
        "group_opentender"
      ]
    },
    {
      "cell_type": "code",
      "execution_count": null,
      "id": "962bade2-1ae5-47b4-a53e-7fcf31de4850",
      "metadata": {
        "id": "962bade2-1ae5-47b4-a53e-7fcf31de4850"
      },
      "outputs": [],
      "source": [
        "#join data korwil dengan opentender\n",
        "join_data = pd.merge(korwil_pivotTable, group_opentender, left_on=['Instansi'], right_on=['lpse2'], how='inner')\n",
        "\n",
        "#menghapus data na\n",
        "join_data = join_data1.dropna(axis=0, how=\"any\")\n",
        "\n",
        "#Output hasil ke bentuk CSV\n",
        "join_data.to_csv(\"join_data.csv\", index=False)"
      ]
    },
    {
      "cell_type": "code",
      "execution_count": null,
      "id": "cfac0a46-aeaa-4dde-a6d7-0ff35fc503fc",
      "metadata": {
        "id": "cfac0a46-aeaa-4dde-a6d7-0ff35fc503fc"
      },
      "outputs": [],
      "source": [
        "join_data.isna().sum()"
      ]
    },
    {
      "cell_type": "markdown",
      "id": "92d3f644-52ad-4b5d-be08-5a3dd5efb697",
      "metadata": {
        "id": "92d3f644-52ad-4b5d-be08-5a3dd5efb697"
      },
      "source": [
        "PEMBENTUKAN BASIC ML PREDICTION BASED ON MULTIPLE LINIER REGRETION"
      ]
    },
    {
      "cell_type": "code",
      "execution_count": null,
      "id": "73a2f2f7-6ebe-42c3-9a7d-fb4d8522a7d5",
      "metadata": {
        "tags": [],
        "id": "73a2f2f7-6ebe-42c3-9a7d-fb4d8522a7d5",
        "outputId": "c319d628-ecb6-41d4-f211-6888eb3f81d6"
      },
      "outputs": [
        {
          "data": {
            "text/html": [
              "<div>\n",
              "<style scoped>\n",
              "    .dataframe tbody tr th:only-of-type {\n",
              "        vertical-align: middle;\n",
              "    }\n",
              "\n",
              "    .dataframe tbody tr th {\n",
              "        vertical-align: top;\n",
              "    }\n",
              "\n",
              "    .dataframe thead th {\n",
              "        text-align: right;\n",
              "    }\n",
              "</style>\n",
              "<table border=\"1\" class=\"dataframe\">\n",
              "  <thead>\n",
              "    <tr style=\"text-align: right;\">\n",
              "      <th></th>\n",
              "      <th>rec</th>\n",
              "      <th>x1</th>\n",
              "      <th>x2</th>\n",
              "      <th>x3</th>\n",
              "      <th>x4</th>\n",
              "      <th>x5</th>\n",
              "      <th>x6</th>\n",
              "      <th>x7</th>\n",
              "      <th>x8</th>\n",
              "      <th>x9</th>\n",
              "      <th>x10</th>\n",
              "      <th>x11</th>\n",
              "      <th>y</th>\n",
              "    </tr>\n",
              "  </thead>\n",
              "  <tbody>\n",
              "    <tr>\n",
              "      <th>0</th>\n",
              "      <td>Kabupaten Aceh Barat Daya</td>\n",
              "      <td>15.0</td>\n",
              "      <td>12.500000</td>\n",
              "      <td>10.500000</td>\n",
              "      <td>10.666667</td>\n",
              "      <td>15.0</td>\n",
              "      <td>17.461538</td>\n",
              "      <td>14.0</td>\n",
              "      <td>15.875000</td>\n",
              "      <td>10.0</td>\n",
              "      <td>5.0</td>\n",
              "      <td>8.0</td>\n",
              "      <td>42.500000</td>\n",
              "    </tr>\n",
              "    <tr>\n",
              "      <th>1</th>\n",
              "      <td>Kabupaten Aceh Besar</td>\n",
              "      <td>15.0</td>\n",
              "      <td>12.500000</td>\n",
              "      <td>10.363636</td>\n",
              "      <td>10.285714</td>\n",
              "      <td>15.0</td>\n",
              "      <td>15.705882</td>\n",
              "      <td>14.0</td>\n",
              "      <td>15.500000</td>\n",
              "      <td>10.0</td>\n",
              "      <td>5.0</td>\n",
              "      <td>8.0</td>\n",
              "      <td>39.500000</td>\n",
              "    </tr>\n",
              "    <tr>\n",
              "      <th>2</th>\n",
              "      <td>Kabupaten Aceh Jaya</td>\n",
              "      <td>15.0</td>\n",
              "      <td>11.923077</td>\n",
              "      <td>10.571429</td>\n",
              "      <td>10.571429</td>\n",
              "      <td>15.0</td>\n",
              "      <td>17.823529</td>\n",
              "      <td>14.0</td>\n",
              "      <td>15.823529</td>\n",
              "      <td>10.0</td>\n",
              "      <td>5.0</td>\n",
              "      <td>8.0</td>\n",
              "      <td>43.000000</td>\n",
              "    </tr>\n",
              "    <tr>\n",
              "      <th>3</th>\n",
              "      <td>Kabupaten Aceh Selatan</td>\n",
              "      <td>15.0</td>\n",
              "      <td>12.000000</td>\n",
              "      <td>10.125000</td>\n",
              "      <td>10.500000</td>\n",
              "      <td>15.0</td>\n",
              "      <td>16.800000</td>\n",
              "      <td>14.0</td>\n",
              "      <td>15.750000</td>\n",
              "      <td>10.0</td>\n",
              "      <td>5.0</td>\n",
              "      <td>8.0</td>\n",
              "      <td>36.000000</td>\n",
              "    </tr>\n",
              "    <tr>\n",
              "      <th>4</th>\n",
              "      <td>Kabupaten Aceh Singkil</td>\n",
              "      <td>15.0</td>\n",
              "      <td>13.076923</td>\n",
              "      <td>10.461538</td>\n",
              "      <td>10.400000</td>\n",
              "      <td>15.0</td>\n",
              "      <td>16.739130</td>\n",
              "      <td>14.0</td>\n",
              "      <td>15.470588</td>\n",
              "      <td>10.0</td>\n",
              "      <td>5.0</td>\n",
              "      <td>8.0</td>\n",
              "      <td>40.888889</td>\n",
              "    </tr>\n",
              "  </tbody>\n",
              "</table>\n",
              "</div>"
            ],
            "text/plain": [
              "                         rec    x1         x2         x3         x4    x5  \\\n",
              "0  Kabupaten Aceh Barat Daya  15.0  12.500000  10.500000  10.666667  15.0   \n",
              "1       Kabupaten Aceh Besar  15.0  12.500000  10.363636  10.285714  15.0   \n",
              "2        Kabupaten Aceh Jaya  15.0  11.923077  10.571429  10.571429  15.0   \n",
              "3     Kabupaten Aceh Selatan  15.0  12.000000  10.125000  10.500000  15.0   \n",
              "4     Kabupaten Aceh Singkil  15.0  13.076923  10.461538  10.400000  15.0   \n",
              "\n",
              "          x6    x7         x8    x9  x10  x11          y  \n",
              "0  17.461538  14.0  15.875000  10.0  5.0  8.0  42.500000  \n",
              "1  15.705882  14.0  15.500000  10.0  5.0  8.0  39.500000  \n",
              "2  17.823529  14.0  15.823529  10.0  5.0  8.0  43.000000  \n",
              "3  16.800000  14.0  15.750000  10.0  5.0  8.0  36.000000  \n",
              "4  16.739130  14.0  15.470588  10.0  5.0  8.0  40.888889  "
            ]
          },
          "execution_count": 3,
          "metadata": {},
          "output_type": "execute_result"
        }
      ],
      "source": [
        "#pembacaan data\n",
        "atribut = ['rec','x1','x2','x3','x4','x5','x6','x7','x8','x9','x10','x11','y']\n",
        "filepath = 'I:/My Drive/NOWHERE TIM/JAGA-DATA-CHALLENGE-2021/join_data.csv'\n",
        "df = pd.read_csv(filepath, header=1, names=atribut)\n",
        "df.head()"
      ]
    },
    {
      "cell_type": "code",
      "execution_count": null,
      "id": "d27049a9-9dfc-43fa-ba10-b35c9c5fdc93",
      "metadata": {
        "id": "d27049a9-9dfc-43fa-ba10-b35c9c5fdc93"
      },
      "outputs": [],
      "source": [
        "#observasi data(1)\n",
        "df.info()"
      ]
    },
    {
      "cell_type": "code",
      "execution_count": null,
      "id": "fd6d438a-ad66-4035-80fb-caaddb68ecd4",
      "metadata": {
        "id": "fd6d438a-ad66-4035-80fb-caaddb68ecd4"
      },
      "outputs": [],
      "source": [
        "#observasi data(2)\n",
        "df.describe()"
      ]
    },
    {
      "cell_type": "code",
      "execution_count": null,
      "id": "16c008c6-969e-4144-b178-63c44831a941",
      "metadata": {
        "id": "16c008c6-969e-4144-b178-63c44831a941"
      },
      "outputs": [],
      "source": [
        "#pembersihan data\n",
        "df.isnull().sum()"
      ]
    },
    {
      "cell_type": "code",
      "execution_count": null,
      "id": "3dcb29cb-0bea-420a-843f-5ca0fc3c3d66",
      "metadata": {
        "id": "3dcb29cb-0bea-420a-843f-5ca0fc3c3d66"
      },
      "outputs": [],
      "source": [
        "#pembentukan model data\n",
        "features = ['x1','x2','x3','x4','x8'] #terpilih hanya yg signifikan sesuai hasil penelitian dg pendekatan PLS\n",
        "X = df[features]\n",
        "y = df['y']"
      ]
    },
    {
      "cell_type": "code",
      "execution_count": null,
      "id": "ae4ce1a7-3af0-48f8-b775-b1fd1c1bb882",
      "metadata": {
        "id": "ae4ce1a7-3af0-48f8-b775-b1fd1c1bb882",
        "outputId": "fac9e8ea-6a7e-4c30-a63f-c3cde29dcd97"
      },
      "outputs": [
        {
          "data": {
            "text/plain": [
              "27.383855119064982"
            ]
          },
          "execution_count": 5,
          "metadata": {},
          "output_type": "execute_result"
        }
      ],
      "source": [
        "#pembuatan data training dan data tes, dengan ukuran 9:1  \n",
        "X_train, X_test, y_train, y_test = train_test_split(X, y, test_size=0.1, random_state=0)\n",
        "lin_reg = LinearRegression()\n",
        "lin_reg.fit(X_train, y_train)\n",
        "abs(lin_reg.score(X_test, y_test)*100) #cek besaran akurasi prediksi absolutnya"
      ]
    },
    {
      "cell_type": "code",
      "source": [
        "#nilai korelasi\n",
        "df.corr()"
      ],
      "metadata": {
        "id": "rLF1Tw_Zl6y9"
      },
      "id": "rLF1Tw_Zl6y9",
      "execution_count": null,
      "outputs": []
    },
    {
      "cell_type": "code",
      "execution_count": null,
      "id": "f93684e7-e885-4abf-86e7-928c5f4af1de",
      "metadata": {
        "id": "f93684e7-e885-4abf-86e7-928c5f4af1de",
        "outputId": "c2727a49-5171-42ce-9623-e45139d04113"
      },
      "outputs": [
        {
          "data": {
            "text/plain": [
              "4.0762953030216575"
            ]
          },
          "execution_count": 6,
          "metadata": {},
          "output_type": "execute_result"
        }
      ],
      "source": [
        "#menghitung rata-rata kesalahan mutlak\n",
        "y_hat = lin_reg.predict(X_test)\n",
        "mean_absolute_error(y_test, y_hat)"
      ]
    },
    {
      "cell_type": "raw",
      "id": "87cdfc6c-6409-4a9e-9f50-c2ce29697550",
      "metadata": {
        "id": "87cdfc6c-6409-4a9e-9f50-c2ce29697550"
      },
      "source": [
        "UJI COBA pada Pemerintah Kabupaten Aceh memiliki skor indikator:\n",
        "1)APIP = 15\n",
        "2)Manajemen ASN = 11.79\n",
        "3)Manajemen Aset Daerah = 10.625\n",
        "4)Optimalisasi Pajak Daerah = 10.6\n",
        "5)Tata Kelola Dana Desa = 16\n",
        "\n",
        "hasilnya adalah 41.29764827 seharusnya 40, terdapat selisih sebesar 1.298 (3.245% lebih besar). "
      ]
    },
    {
      "cell_type": "code",
      "execution_count": null,
      "id": "d0488bcc-e116-4eb2-9344-fdbe9f579110",
      "metadata": {
        "id": "d0488bcc-e116-4eb2-9344-fdbe9f579110",
        "outputId": "fd56c46f-9e10-41ae-f51d-b9c59e745851"
      },
      "outputs": [
        {
          "name": "stderr",
          "output_type": "stream",
          "text": [
            "C:\\Users\\ideauser07\\Anaconda3\\envs\\eka-tender\\lib\\site-packages\\sklearn\\base.py:445: UserWarning: X does not have valid feature names, but LinearRegression was fitted with feature names\n",
            "  warnings.warn(\n"
          ]
        },
        {
          "data": {
            "text/plain": [
              "array([41.29764827])"
            ]
          },
          "execution_count": 7,
          "metadata": {},
          "output_type": "execute_result"
        }
      ],
      "source": [
        "lin_reg.predict([[15, 11.79, 10.625, 10.6, 16]])"
      ]
    },
    {
      "cell_type": "markdown",
      "id": "b98d8c33-e941-4092-ba08-ba86dcb2055a",
      "metadata": {
        "id": "b98d8c33-e941-4092-ba08-ba86dcb2055a"
      },
      "source": [
        "MINI CALCULATOR for PREDICTION OF Average Potential Fraud Analysis"
      ]
    },
    {
      "cell_type": "code",
      "execution_count": null,
      "id": "09d15b09-d326-41de-a408-865d6d2a6698",
      "metadata": {
        "id": "09d15b09-d326-41de-a408-865d6d2a6698",
        "outputId": "b58ca13d-f1c0-40af-baf5-74bb0035e458"
      },
      "outputs": [
        {
          "name": "stdout",
          "output_type": "stream",
          "text": [
            "MINI CALCULATOR for PREDICTION OF Average Potential Fraud Analysis\n",
            "masukkan angka indikator area intervensi korupsi pada area APIP =\n"
          ]
        },
        {
          "name": "stdin",
          "output_type": "stream",
          "text": [
            " 15\n"
          ]
        },
        {
          "name": "stdout",
          "output_type": "stream",
          "text": [
            "masukkan angka indikator area intervensi korupsi pada area Manajemen ASN = \n"
          ]
        },
        {
          "name": "stdin",
          "output_type": "stream",
          "text": [
            " 11.79\n"
          ]
        },
        {
          "name": "stdout",
          "output_type": "stream",
          "text": [
            "masukkan angka indikator area intervensi korupsi pada area Manajemen Aset Daerah = \n"
          ]
        },
        {
          "name": "stdin",
          "output_type": "stream",
          "text": [
            " 10.625\n"
          ]
        },
        {
          "name": "stdout",
          "output_type": "stream",
          "text": [
            "masukkan angka indikator area intervensi korupsi pada area Optimalisasi Pajak Daerah = \n"
          ]
        },
        {
          "name": "stdin",
          "output_type": "stream",
          "text": [
            " 10.6\n"
          ]
        },
        {
          "name": "stdout",
          "output_type": "stream",
          "text": [
            "masukkan angka indikator area intervensi korupsi pada area Tata Kelola Dana Desa = \n"
          ]
        },
        {
          "name": "stdin",
          "output_type": "stream",
          "text": [
            " 16\n"
          ]
        },
        {
          "name": "stdout",
          "output_type": "stream",
          "text": [
            "Berikut adalah nilai prediksi rata-rata potential fraud analysis pada Daerah tersebut =  [41.29764827]\n"
          ]
        },
        {
          "name": "stderr",
          "output_type": "stream",
          "text": [
            "C:\\Users\\ideauser07\\Anaconda3\\envs\\eka-tender\\lib\\site-packages\\sklearn\\base.py:445: UserWarning: X does not have valid feature names, but LinearRegression was fitted with feature names\n",
            "  warnings.warn(\n"
          ]
        }
      ],
      "source": [
        "# print('MINI CALCULATOR for PREDICTION OF Average Potential Fraud Analysis')\n",
        "\n",
        "print ('MINI CALCULATOR for PREDICTION OF Average Potential Fraud Analysis')\n",
        "print (\"masukkan angka indikator area intervensi korupsi pada area APIP =\")\n",
        "X1 = float(input())\n",
        "print (\"masukkan angka indikator area intervensi korupsi pada area Manajemen ASN = \")\n",
        "X2 = float(input())\n",
        "print (\"masukkan angka indikator area intervensi korupsi pada area Manajemen Aset Daerah = \")\n",
        "X3 = float(input())\n",
        "print (\"masukkan angka indikator area intervensi korupsi pada area Optimalisasi Pajak Daerah = \")\n",
        "X4 = float(input())\n",
        "print (\"masukkan angka indikator area intervensi korupsi pada area Tata Kelola Dana Desa = \")\n",
        "X8 = float(input())\n",
        "\n",
        "X_features=np.array([X1,X2,X3,X4,X8])  #array declaration\n",
        "\n",
        "print('Berikut adalah nilai prediksi rata-rata potential fraud analysis pada tender yang diadakan Pemerintah Daerah tersebut = ', + lin_reg.predict([X_features]))\n",
        "#print(lin_reg.predict([X_features]))\n"
      ]
    },
    {
      "cell_type": "code",
      "execution_count": null,
      "id": "8976542e-0e0d-4f05-8010-05cdbbc5f3eb",
      "metadata": {
        "id": "8976542e-0e0d-4f05-8010-05cdbbc5f3eb"
      },
      "outputs": [],
      "source": []
    }
  ],
  "metadata": {
    "kernelspec": {
      "display_name": "Python 3 (ipykernel)",
      "language": "python",
      "name": "python3"
    },
    "language_info": {
      "codemirror_mode": {
        "name": "ipython",
        "version": 3
      },
      "file_extension": ".py",
      "mimetype": "text/x-python",
      "name": "python",
      "nbconvert_exporter": "python",
      "pygments_lexer": "ipython3",
      "version": "3.9.7"
    },
    "colab": {
      "provenance": [],
      "include_colab_link": true
    }
  },
  "nbformat": 4,
  "nbformat_minor": 5
}